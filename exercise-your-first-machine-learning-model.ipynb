{
 "cells": [
  {
   "cell_type": "markdown",
   "id": "c9c204d0",
   "metadata": {
    "papermill": {
     "duration": 0.006978,
     "end_time": "2022-07-02T02:31:49.167448",
     "exception": false,
     "start_time": "2022-07-02T02:31:49.160470",
     "status": "completed"
    },
    "tags": []
   },
   "source": [
    "**This notebook is an exercise in the [Introduction to Machine Learning](https://www.kaggle.com/learn/intro-to-machine-learning) course.  You can reference the tutorial at [this link](https://www.kaggle.com/dansbecker/your-first-machine-learning-model).**\n",
    "\n",
    "---\n"
   ]
  },
  {
   "cell_type": "markdown",
   "id": "94a0bbb1",
   "metadata": {
    "papermill": {
     "duration": 0.005665,
     "end_time": "2022-07-02T02:31:49.178951",
     "exception": false,
     "start_time": "2022-07-02T02:31:49.173286",
     "status": "completed"
    },
    "tags": []
   },
   "source": [
    "## Recap\n",
    "So far, you have loaded your data and reviewed it with the following code. Run this cell to set up your coding environment where the previous step left off."
   ]
  },
  {
   "cell_type": "code",
   "execution_count": 1,
   "id": "fe4badcb",
   "metadata": {
    "execution": {
     "iopub.execute_input": "2022-07-02T02:31:49.193224Z",
     "iopub.status.busy": "2022-07-02T02:31:49.192082Z",
     "iopub.status.idle": "2022-07-02T02:31:50.639512Z",
     "shell.execute_reply": "2022-07-02T02:31:50.638048Z"
    },
    "papermill": {
     "duration": 1.458657,
     "end_time": "2022-07-02T02:31:50.643357",
     "exception": false,
     "start_time": "2022-07-02T02:31:49.184700",
     "status": "completed"
    },
    "tags": []
   },
   "outputs": [
    {
     "name": "stdout",
     "output_type": "stream",
     "text": [
      "Setup Complete\n"
     ]
    }
   ],
   "source": [
    "# Code you have previously used to load data\n",
    "import pandas as pd\n",
    "\n",
    "# Path of the file to read\n",
    "iowa_file_path = '../input/home-data-for-ml-course/train.csv'\n",
    "\n",
    "home_data = pd.read_csv(iowa_file_path)\n",
    "\n",
    "# Set up code checking\n",
    "from learntools.core import binder\n",
    "binder.bind(globals())\n",
    "from learntools.machine_learning.ex3 import *\n",
    "\n",
    "print(\"Setup Complete\")"
   ]
  },
  {
   "cell_type": "markdown",
   "id": "a17236fa",
   "metadata": {
    "papermill": {
     "duration": 0.005916,
     "end_time": "2022-07-02T02:31:50.656275",
     "exception": false,
     "start_time": "2022-07-02T02:31:50.650359",
     "status": "completed"
    },
    "tags": []
   },
   "source": [
    "# Exercises\n",
    "\n",
    "## Step 1: Specify Prediction Target\n",
    "Select the target variable, which corresponds to the sales price. Save this to a new variable called `y`. You'll need to print a list of the columns to find the name of the column you need.\n"
   ]
  },
  {
   "cell_type": "code",
   "execution_count": 2,
   "id": "acebd77c",
   "metadata": {
    "execution": {
     "iopub.execute_input": "2022-07-02T02:31:50.669572Z",
     "iopub.status.busy": "2022-07-02T02:31:50.669211Z",
     "iopub.status.idle": "2022-07-02T02:31:50.679308Z",
     "shell.execute_reply": "2022-07-02T02:31:50.678202Z"
    },
    "papermill": {
     "duration": 0.019708,
     "end_time": "2022-07-02T02:31:50.681814",
     "exception": false,
     "start_time": "2022-07-02T02:31:50.662106",
     "status": "completed"
    },
    "tags": []
   },
   "outputs": [
    {
     "data": {
      "text/plain": [
       "Index(['Id', 'MSSubClass', 'MSZoning', 'LotFrontage', 'LotArea', 'Street',\n",
       "       'Alley', 'LotShape', 'LandContour', 'Utilities', 'LotConfig',\n",
       "       'LandSlope', 'Neighborhood', 'Condition1', 'Condition2', 'BldgType',\n",
       "       'HouseStyle', 'OverallQual', 'OverallCond', 'YearBuilt', 'YearRemodAdd',\n",
       "       'RoofStyle', 'RoofMatl', 'Exterior1st', 'Exterior2nd', 'MasVnrType',\n",
       "       'MasVnrArea', 'ExterQual', 'ExterCond', 'Foundation', 'BsmtQual',\n",
       "       'BsmtCond', 'BsmtExposure', 'BsmtFinType1', 'BsmtFinSF1',\n",
       "       'BsmtFinType2', 'BsmtFinSF2', 'BsmtUnfSF', 'TotalBsmtSF', 'Heating',\n",
       "       'HeatingQC', 'CentralAir', 'Electrical', '1stFlrSF', '2ndFlrSF',\n",
       "       'LowQualFinSF', 'GrLivArea', 'BsmtFullBath', 'BsmtHalfBath', 'FullBath',\n",
       "       'HalfBath', 'BedroomAbvGr', 'KitchenAbvGr', 'KitchenQual',\n",
       "       'TotRmsAbvGrd', 'Functional', 'Fireplaces', 'FireplaceQu', 'GarageType',\n",
       "       'GarageYrBlt', 'GarageFinish', 'GarageCars', 'GarageArea', 'GarageQual',\n",
       "       'GarageCond', 'PavedDrive', 'WoodDeckSF', 'OpenPorchSF',\n",
       "       'EnclosedPorch', '3SsnPorch', 'ScreenPorch', 'PoolArea', 'PoolQC',\n",
       "       'Fence', 'MiscFeature', 'MiscVal', 'MoSold', 'YrSold', 'SaleType',\n",
       "       'SaleCondition', 'SalePrice'],\n",
       "      dtype='object')"
      ]
     },
     "execution_count": 2,
     "metadata": {},
     "output_type": "execute_result"
    }
   ],
   "source": [
    "# print the list of columns in the dataset to find the name of the prediction target\n",
    "home_data.columns"
   ]
  },
  {
   "cell_type": "code",
   "execution_count": 3,
   "id": "94224e81",
   "metadata": {
    "execution": {
     "iopub.execute_input": "2022-07-02T02:31:50.696146Z",
     "iopub.status.busy": "2022-07-02T02:31:50.695429Z",
     "iopub.status.idle": "2022-07-02T02:31:50.710241Z",
     "shell.execute_reply": "2022-07-02T02:31:50.709348Z"
    },
    "papermill": {
     "duration": 0.024413,
     "end_time": "2022-07-02T02:31:50.712337",
     "exception": false,
     "start_time": "2022-07-02T02:31:50.687924",
     "status": "completed"
    },
    "tags": []
   },
   "outputs": [
    {
     "data": {
      "application/javascript": [
       "parent.postMessage({\"jupyterEvent\": \"custom.exercise_interaction\", \"data\": {\"outcomeType\": 1, \"valueTowardsCompletion\": 0.25, \"interactionType\": 1, \"questionType\": 2, \"questionId\": \"1_SetTarget\", \"learnToolsVersion\": \"0.3.4\", \"failureMessage\": \"\", \"exceptionClass\": \"\", \"trace\": \"\"}}, \"*\")"
      ],
      "text/plain": [
       "<IPython.core.display.Javascript object>"
      ]
     },
     "metadata": {},
     "output_type": "display_data"
    },
    {
     "data": {
      "text/markdown": [
       "<span style=\"color:#33cc33\">Correct</span>"
      ],
      "text/plain": [
       "Correct"
      ]
     },
     "metadata": {},
     "output_type": "display_data"
    }
   ],
   "source": [
    "\n",
    "y=home_data.SalePrice\n",
    "# Check your answer\n",
    "step_1.check()"
   ]
  },
  {
   "cell_type": "code",
   "execution_count": 4,
   "id": "2281bd80",
   "metadata": {
    "execution": {
     "iopub.execute_input": "2022-07-02T02:31:50.727305Z",
     "iopub.status.busy": "2022-07-02T02:31:50.726883Z",
     "iopub.status.idle": "2022-07-02T02:31:50.731169Z",
     "shell.execute_reply": "2022-07-02T02:31:50.730056Z"
    },
    "papermill": {
     "duration": 0.014804,
     "end_time": "2022-07-02T02:31:50.733605",
     "exception": false,
     "start_time": "2022-07-02T02:31:50.718801",
     "status": "completed"
    },
    "tags": []
   },
   "outputs": [],
   "source": [
    "# The lines below will show you a hint or the solution.\n",
    "# step_1.hint() \n",
    "#step_1.solution()"
   ]
  },
  {
   "cell_type": "markdown",
   "id": "057caa24",
   "metadata": {
    "papermill": {
     "duration": 0.006135,
     "end_time": "2022-07-02T02:31:50.746085",
     "exception": false,
     "start_time": "2022-07-02T02:31:50.739950",
     "status": "completed"
    },
    "tags": []
   },
   "source": [
    "## Step 2: Create X\n",
    "Now you will create a DataFrame called `X` holding the predictive features.\n",
    "\n",
    "Since you want only some columns from the original data, you'll first create a list with the names of the columns you want in `X`.\n",
    "\n",
    "You'll use just the following columns in the list (you can copy and paste the whole list to save some typing, though you'll still need to add quotes):\n",
    "  * LotArea\n",
    "  * YearBuilt\n",
    "  * 1stFlrSF\n",
    "  * 2ndFlrSF\n",
    "  * FullBath\n",
    "  * BedroomAbvGr\n",
    "  * TotRmsAbvGrd\n",
    "\n",
    "After you've created that list of features, use it to create the DataFrame that you'll use to fit the model."
   ]
  },
  {
   "cell_type": "code",
   "execution_count": 5,
   "id": "c0342c65",
   "metadata": {
    "execution": {
     "iopub.execute_input": "2022-07-02T02:31:50.762434Z",
     "iopub.status.busy": "2022-07-02T02:31:50.761574Z",
     "iopub.status.idle": "2022-07-02T02:31:50.775713Z",
     "shell.execute_reply": "2022-07-02T02:31:50.774613Z"
    },
    "papermill": {
     "duration": 0.024182,
     "end_time": "2022-07-02T02:31:50.777652",
     "exception": false,
     "start_time": "2022-07-02T02:31:50.753470",
     "status": "completed"
    },
    "tags": []
   },
   "outputs": [
    {
     "data": {
      "application/javascript": [
       "parent.postMessage({\"jupyterEvent\": \"custom.exercise_interaction\", \"data\": {\"outcomeType\": 1, \"valueTowardsCompletion\": 0.25, \"interactionType\": 1, \"questionType\": 2, \"questionId\": \"2_SelectPredictionData\", \"learnToolsVersion\": \"0.3.4\", \"failureMessage\": \"\", \"exceptionClass\": \"\", \"trace\": \"\"}}, \"*\")"
      ],
      "text/plain": [
       "<IPython.core.display.Javascript object>"
      ]
     },
     "metadata": {},
     "output_type": "display_data"
    },
    {
     "data": {
      "text/markdown": [
       "<span style=\"color:#33cc33\">Correct</span>"
      ],
      "text/plain": [
       "Correct"
      ]
     },
     "metadata": {},
     "output_type": "display_data"
    }
   ],
   "source": [
    "# Create the list of features below\n",
    "feature_names = ['LotArea',\n",
    "'YearBuilt',\n",
    "'1stFlrSF',\n",
    "'2ndFlrSF',\n",
    "'FullBath',\n",
    "'BedroomAbvGr',\n",
    "'TotRmsAbvGrd']\n",
    "\n",
    "# Select data corresponding to features in feature_names\n",
    "X = home_data[feature_names]\n",
    "\n",
    "# Check your answer\n",
    "step_2.check()"
   ]
  },
  {
   "cell_type": "code",
   "execution_count": 6,
   "id": "6e026b8b",
   "metadata": {
    "execution": {
     "iopub.execute_input": "2022-07-02T02:31:50.792748Z",
     "iopub.status.busy": "2022-07-02T02:31:50.792356Z",
     "iopub.status.idle": "2022-07-02T02:31:50.795929Z",
     "shell.execute_reply": "2022-07-02T02:31:50.795127Z"
    },
    "papermill": {
     "duration": 0.013404,
     "end_time": "2022-07-02T02:31:50.797871",
     "exception": false,
     "start_time": "2022-07-02T02:31:50.784467",
     "status": "completed"
    },
    "tags": []
   },
   "outputs": [],
   "source": [
    "# step_2.hint()\n",
    "#step_2.solution()"
   ]
  },
  {
   "cell_type": "markdown",
   "id": "6d62bd60",
   "metadata": {
    "papermill": {
     "duration": 0.006242,
     "end_time": "2022-07-02T02:31:50.811118",
     "exception": false,
     "start_time": "2022-07-02T02:31:50.804876",
     "status": "completed"
    },
    "tags": []
   },
   "source": [
    "## Review Data\n",
    "Before building a model, take a quick look at **X** to verify it looks sensible"
   ]
  },
  {
   "cell_type": "code",
   "execution_count": 7,
   "id": "4b3c453b",
   "metadata": {
    "execution": {
     "iopub.execute_input": "2022-07-02T02:31:50.826175Z",
     "iopub.status.busy": "2022-07-02T02:31:50.825764Z",
     "iopub.status.idle": "2022-07-02T02:31:50.829631Z",
     "shell.execute_reply": "2022-07-02T02:31:50.828766Z"
    },
    "papermill": {
     "duration": 0.013799,
     "end_time": "2022-07-02T02:31:50.831539",
     "exception": false,
     "start_time": "2022-07-02T02:31:50.817740",
     "status": "completed"
    },
    "tags": []
   },
   "outputs": [],
   "source": [
    "# Review data\n",
    "# print description or statistics from X\n",
    "#print(_)\n",
    "\n",
    "# print the top few lines\n",
    "#print(_)"
   ]
  },
  {
   "cell_type": "markdown",
   "id": "36868cd6",
   "metadata": {
    "papermill": {
     "duration": 0.006284,
     "end_time": "2022-07-02T02:31:50.844314",
     "exception": false,
     "start_time": "2022-07-02T02:31:50.838030",
     "status": "completed"
    },
    "tags": []
   },
   "source": [
    "## Step 3: Specify and Fit Model\n",
    "Create a `DecisionTreeRegressor` and save it iowa_model. Ensure you've done the relevant import from sklearn to run this command.\n",
    "\n",
    "Then fit the model you just created using the data in `X` and `y` that you saved above."
   ]
  },
  {
   "cell_type": "code",
   "execution_count": 8,
   "id": "e030a70f",
   "metadata": {
    "execution": {
     "iopub.execute_input": "2022-07-02T02:31:50.859731Z",
     "iopub.status.busy": "2022-07-02T02:31:50.858791Z",
     "iopub.status.idle": "2022-07-02T02:31:50.877464Z",
     "shell.execute_reply": "2022-07-02T02:31:50.876581Z"
    },
    "papermill": {
     "duration": 0.028698,
     "end_time": "2022-07-02T02:31:50.879442",
     "exception": false,
     "start_time": "2022-07-02T02:31:50.850744",
     "status": "completed"
    },
    "tags": []
   },
   "outputs": [
    {
     "data": {
      "application/javascript": [
       "parent.postMessage({\"jupyterEvent\": \"custom.exercise_interaction\", \"data\": {\"outcomeType\": 1, \"valueTowardsCompletion\": 0.25, \"interactionType\": 1, \"questionType\": 2, \"questionId\": \"3_CreateModel\", \"learnToolsVersion\": \"0.3.4\", \"failureMessage\": \"\", \"exceptionClass\": \"\", \"trace\": \"\"}}, \"*\")"
      ],
      "text/plain": [
       "<IPython.core.display.Javascript object>"
      ]
     },
     "metadata": {},
     "output_type": "display_data"
    },
    {
     "data": {
      "text/markdown": [
       "<span style=\"color:#33cc33\">Correct</span>"
      ],
      "text/plain": [
       "Correct"
      ]
     },
     "metadata": {},
     "output_type": "display_data"
    }
   ],
   "source": [
    "# from _ import _\n",
    "#specify the model. \n",
    "#For model reproducibility, set a numeric value for random_state when specifying the model\n",
    "from sklearn.tree import DecisionTreeRegressor\n",
    "iowa_model = DecisionTreeRegressor(random_state=1)\n",
    "\n",
    "\n",
    "# Fit the model\n",
    "____\n",
    "iowa_model.fit(X, y)\n",
    "\n",
    "# Check your answer\n",
    "step_3.check()"
   ]
  },
  {
   "cell_type": "code",
   "execution_count": 9,
   "id": "0cb254d9",
   "metadata": {
    "execution": {
     "iopub.execute_input": "2022-07-02T02:31:50.894882Z",
     "iopub.status.busy": "2022-07-02T02:31:50.894141Z",
     "iopub.status.idle": "2022-07-02T02:31:50.898627Z",
     "shell.execute_reply": "2022-07-02T02:31:50.897866Z"
    },
    "papermill": {
     "duration": 0.01463,
     "end_time": "2022-07-02T02:31:50.900768",
     "exception": false,
     "start_time": "2022-07-02T02:31:50.886138",
     "status": "completed"
    },
    "tags": []
   },
   "outputs": [],
   "source": [
    "# step_3.hint()\n",
    "# step_3.solution()"
   ]
  },
  {
   "cell_type": "markdown",
   "id": "50f1d6a2",
   "metadata": {
    "papermill": {
     "duration": 0.006778,
     "end_time": "2022-07-02T02:31:50.914628",
     "exception": false,
     "start_time": "2022-07-02T02:31:50.907850",
     "status": "completed"
    },
    "tags": []
   },
   "source": [
    "## Step 4: Make Predictions\n",
    "Make predictions with the model's `predict` command using `X` as the data. Save the results to a variable called `predictions`."
   ]
  },
  {
   "cell_type": "code",
   "execution_count": 10,
   "id": "ec1a0968",
   "metadata": {
    "execution": {
     "iopub.execute_input": "2022-07-02T02:31:50.930968Z",
     "iopub.status.busy": "2022-07-02T02:31:50.930215Z",
     "iopub.status.idle": "2022-07-02T02:31:50.945127Z",
     "shell.execute_reply": "2022-07-02T02:31:50.944283Z"
    },
    "papermill": {
     "duration": 0.025214,
     "end_time": "2022-07-02T02:31:50.947095",
     "exception": false,
     "start_time": "2022-07-02T02:31:50.921881",
     "status": "completed"
    },
    "tags": []
   },
   "outputs": [
    {
     "name": "stdout",
     "output_type": "stream",
     "text": [
      "[208500. 181500. 223500. ... 266500. 142125. 147500.]\n"
     ]
    },
    {
     "data": {
      "application/javascript": [
       "parent.postMessage({\"jupyterEvent\": \"custom.exercise_interaction\", \"data\": {\"outcomeType\": 1, \"valueTowardsCompletion\": 0.25, \"interactionType\": 1, \"questionType\": 2, \"questionId\": \"4_MakePredictions\", \"learnToolsVersion\": \"0.3.4\", \"failureMessage\": \"\", \"exceptionClass\": \"\", \"trace\": \"\"}}, \"*\")"
      ],
      "text/plain": [
       "<IPython.core.display.Javascript object>"
      ]
     },
     "metadata": {},
     "output_type": "display_data"
    },
    {
     "data": {
      "text/markdown": [
       "<span style=\"color:#33cc33\">Correct</span>"
      ],
      "text/plain": [
       "Correct"
      ]
     },
     "metadata": {},
     "output_type": "display_data"
    }
   ],
   "source": [
    "\n",
    "\n",
    "predictions = iowa_model.predict(X)\n",
    "print(predictions)\n",
    "\n",
    "# Check your answer\n",
    "step_4.check()"
   ]
  },
  {
   "cell_type": "code",
   "execution_count": 11,
   "id": "f9612cba",
   "metadata": {
    "execution": {
     "iopub.execute_input": "2022-07-02T02:31:50.963650Z",
     "iopub.status.busy": "2022-07-02T02:31:50.962878Z",
     "iopub.status.idle": "2022-07-02T02:31:50.966644Z",
     "shell.execute_reply": "2022-07-02T02:31:50.965905Z"
    },
    "papermill": {
     "duration": 0.014379,
     "end_time": "2022-07-02T02:31:50.968636",
     "exception": false,
     "start_time": "2022-07-02T02:31:50.954257",
     "status": "completed"
    },
    "tags": []
   },
   "outputs": [],
   "source": [
    "# step_4.hint()\n",
    "#step_4.solution()"
   ]
  },
  {
   "cell_type": "markdown",
   "id": "78f96668",
   "metadata": {
    "papermill": {
     "duration": 0.007272,
     "end_time": "2022-07-02T02:31:50.983058",
     "exception": false,
     "start_time": "2022-07-02T02:31:50.975786",
     "status": "completed"
    },
    "tags": []
   },
   "source": [
    "## Think About Your Results\n",
    "\n",
    "Use the `head` method to compare the top few predictions to the actual home values (in `y`) for those same homes. Anything surprising?\n"
   ]
  },
  {
   "cell_type": "code",
   "execution_count": 12,
   "id": "11151130",
   "metadata": {
    "execution": {
     "iopub.execute_input": "2022-07-02T02:31:50.999141Z",
     "iopub.status.busy": "2022-07-02T02:31:50.998703Z",
     "iopub.status.idle": "2022-07-02T02:31:51.002966Z",
     "shell.execute_reply": "2022-07-02T02:31:51.002089Z"
    },
    "papermill": {
     "duration": 0.014697,
     "end_time": "2022-07-02T02:31:51.004905",
     "exception": false,
     "start_time": "2022-07-02T02:31:50.990208",
     "status": "completed"
    },
    "tags": []
   },
   "outputs": [],
   "source": [
    "# You can write code in this cell\n"
   ]
  },
  {
   "cell_type": "markdown",
   "id": "88e71e7a",
   "metadata": {
    "papermill": {
     "duration": 0.006899,
     "end_time": "2022-07-02T02:31:51.018880",
     "exception": false,
     "start_time": "2022-07-02T02:31:51.011981",
     "status": "completed"
    },
    "tags": []
   },
   "source": [
    "It's natural to ask how accurate the model's predictions will be and how you can improve that. That will be you're next step.\n",
    "\n",
    "# Keep Going\n",
    "\n",
    "You are ready for **[Model Validation](https://www.kaggle.com/dansbecker/model-validation).**\n"
   ]
  },
  {
   "cell_type": "markdown",
   "id": "7e560d30",
   "metadata": {
    "papermill": {
     "duration": 0.0068,
     "end_time": "2022-07-02T02:31:51.032760",
     "exception": false,
     "start_time": "2022-07-02T02:31:51.025960",
     "status": "completed"
    },
    "tags": []
   },
   "source": [
    "---\n",
    "\n",
    "\n",
    "\n",
    "\n",
    "*Have questions or comments? Visit the [course discussion forum](https://www.kaggle.com/learn/intro-to-machine-learning/discussion) to chat with other learners.*"
   ]
  }
 ],
 "metadata": {
  "kernelspec": {
   "display_name": "Python 3",
   "language": "python",
   "name": "python3"
  },
  "language_info": {
   "codemirror_mode": {
    "name": "ipython",
    "version": 3
   },
   "file_extension": ".py",
   "mimetype": "text/x-python",
   "name": "python",
   "nbconvert_exporter": "python",
   "pygments_lexer": "ipython3",
   "version": "3.7.12"
  },
  "papermill": {
   "default_parameters": {},
   "duration": 12.869086,
   "end_time": "2022-07-02T02:31:51.761605",
   "environment_variables": {},
   "exception": null,
   "input_path": "__notebook__.ipynb",
   "output_path": "__notebook__.ipynb",
   "parameters": {},
   "start_time": "2022-07-02T02:31:38.892519",
   "version": "2.3.4"
  }
 },
 "nbformat": 4,
 "nbformat_minor": 5
}
