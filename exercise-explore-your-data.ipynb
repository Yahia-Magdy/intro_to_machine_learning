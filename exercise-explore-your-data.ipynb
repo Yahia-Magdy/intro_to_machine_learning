{
 "cells": [
  {
   "cell_type": "markdown",
   "id": "f93f3f7b",
   "metadata": {
    "papermill": {
     "duration": 0.004426,
     "end_time": "2022-07-02T02:31:37.134025",
     "exception": false,
     "start_time": "2022-07-02T02:31:37.129599",
     "status": "completed"
    },
    "tags": []
   },
   "source": [
    "**[Machine Learning Course Home Page](https://www.kaggle.com/learn/machine-learning)**\n",
    "\n",
    "---\n"
   ]
  },
  {
   "cell_type": "markdown",
   "id": "1c5e222f",
   "metadata": {
    "papermill": {
     "duration": 0.003338,
     "end_time": "2022-07-02T02:31:37.141127",
     "exception": false,
     "start_time": "2022-07-02T02:31:37.137789",
     "status": "completed"
    },
    "tags": []
   },
   "source": [
    "This exercise will test your ability to read a data file and understand statistics about the data.\n",
    "\n",
    "In later exercises, you will apply techniques to filter the data, build a machine learning model, and iteratively improve your model.\n",
    "\n",
    "The course examples use data from Melbourne. To ensure you can apply these techniques on your own, you will have to apply them to a new dataset (with house prices from Iowa).\n",
    "\n",
    "The exercises use a \"notebook\" coding environment.  In case you are unfamiliar with notebooks, we have a [90-second intro video](https://www.youtube.com/watch?v=4C2qMnaIKL4).\n",
    "\n",
    "# Exercises\n",
    "\n",
    "Run the following cell to set up code-checking, which will verify your work as you go."
   ]
  },
  {
   "cell_type": "code",
   "execution_count": 1,
   "id": "8499bf03",
   "metadata": {
    "execution": {
     "iopub.execute_input": "2022-07-02T02:31:37.150087Z",
     "iopub.status.busy": "2022-07-02T02:31:37.149487Z",
     "iopub.status.idle": "2022-07-02T02:31:37.200703Z",
     "shell.execute_reply": "2022-07-02T02:31:37.199491Z"
    },
    "papermill": {
     "duration": 0.059121,
     "end_time": "2022-07-02T02:31:37.203654",
     "exception": false,
     "start_time": "2022-07-02T02:31:37.144533",
     "status": "completed"
    },
    "tags": []
   },
   "outputs": [
    {
     "name": "stdout",
     "output_type": "stream",
     "text": [
      "Setup Complete\n"
     ]
    }
   ],
   "source": [
    "# Set up code checking\n",
    "from learntools.core import binder\n",
    "binder.bind(globals())\n",
    "from learntools.machine_learning.ex2 import *\n",
    "print(\"Setup Complete\")"
   ]
  },
  {
   "cell_type": "markdown",
   "id": "7bdf13da",
   "metadata": {
    "papermill": {
     "duration": 0.003373,
     "end_time": "2022-07-02T02:31:37.210862",
     "exception": false,
     "start_time": "2022-07-02T02:31:37.207489",
     "status": "completed"
    },
    "tags": []
   },
   "source": [
    "## Step 1: Loading Data\n",
    "Read the Iowa data file into a Pandas DataFrame called `home_data`."
   ]
  },
  {
   "cell_type": "code",
   "execution_count": 2,
   "id": "f38dcc88",
   "metadata": {
    "execution": {
     "iopub.execute_input": "2022-07-02T02:31:37.219887Z",
     "iopub.status.busy": "2022-07-02T02:31:37.219330Z",
     "iopub.status.idle": "2022-07-02T02:31:37.270002Z",
     "shell.execute_reply": "2022-07-02T02:31:37.269225Z"
    },
    "papermill": {
     "duration": 0.057617,
     "end_time": "2022-07-02T02:31:37.272048",
     "exception": false,
     "start_time": "2022-07-02T02:31:37.214431",
     "status": "completed"
    },
    "tags": []
   },
   "outputs": [
    {
     "data": {
      "application/javascript": [
       "parent.postMessage({\"jupyterEvent\": \"custom.exercise_interaction\", \"data\": {\"outcomeType\": 1, \"valueTowardsCompletion\": 0.5, \"interactionType\": 1, \"questionType\": 1, \"questionId\": \"1_LoadHomeData\", \"learnToolsVersion\": \"0.3.4\", \"failureMessage\": \"\", \"exceptionClass\": \"\", \"trace\": \"\"}}, \"*\")"
      ],
      "text/plain": [
       "<IPython.core.display.Javascript object>"
      ]
     },
     "metadata": {},
     "output_type": "display_data"
    },
    {
     "data": {
      "text/markdown": [
       "<span style=\"color:#33cc33\">Correct</span>"
      ],
      "text/plain": [
       "Correct"
      ]
     },
     "metadata": {},
     "output_type": "display_data"
    }
   ],
   "source": [
    "import pandas as pd\n",
    "\n",
    "# Path of the file to read\n",
    "iowa_file_path = '../input/home-data-for-ml-course/train.csv'\n",
    "\n",
    "# Fill in the line below to read the file into a variable home_data\n",
    "home_data = pd.read_csv(iowa_file_path )\n",
    "\n",
    "# Call line below with no argument to check that you've loaded the data correctly\n",
    "step_1.check()"
   ]
  },
  {
   "cell_type": "code",
   "execution_count": 3,
   "id": "b268200f",
   "metadata": {
    "execution": {
     "iopub.execute_input": "2022-07-02T02:31:37.282123Z",
     "iopub.status.busy": "2022-07-02T02:31:37.281271Z",
     "iopub.status.idle": "2022-07-02T02:31:37.285025Z",
     "shell.execute_reply": "2022-07-02T02:31:37.284320Z"
    },
    "papermill": {
     "duration": 0.010934,
     "end_time": "2022-07-02T02:31:37.286976",
     "exception": false,
     "start_time": "2022-07-02T02:31:37.276042",
     "status": "completed"
    },
    "tags": []
   },
   "outputs": [],
   "source": [
    "# Lines below will give you a hint or solution code\n",
    "#step_1.hint()\n",
    "#step_1.solution()"
   ]
  },
  {
   "cell_type": "markdown",
   "id": "5147fd63",
   "metadata": {
    "papermill": {
     "duration": 0.003588,
     "end_time": "2022-07-02T02:31:37.294543",
     "exception": false,
     "start_time": "2022-07-02T02:31:37.290955",
     "status": "completed"
    },
    "tags": []
   },
   "source": [
    "## Step 2: Review The Data\n",
    "Use the command you learned to view summary statistics of the data. Then fill in variables to answer the following questions"
   ]
  },
  {
   "cell_type": "code",
   "execution_count": 4,
   "id": "273c4bf4",
   "metadata": {
    "execution": {
     "iopub.execute_input": "2022-07-02T02:31:37.303875Z",
     "iopub.status.busy": "2022-07-02T02:31:37.303332Z",
     "iopub.status.idle": "2022-07-02T02:31:37.395881Z",
     "shell.execute_reply": "2022-07-02T02:31:37.394740Z"
    },
    "papermill": {
     "duration": 0.09996,
     "end_time": "2022-07-02T02:31:37.398241",
     "exception": false,
     "start_time": "2022-07-02T02:31:37.298281",
     "status": "completed"
    },
    "tags": []
   },
   "outputs": [
    {
     "data": {
      "text/markdown": [],
      "text/plain": [
       "<learntools.core.constants.PlaceholderValue at 0x7f44df16b450>"
      ]
     },
     "execution_count": 4,
     "metadata": {},
     "output_type": "execute_result"
    }
   ],
   "source": [
    "# Print summary statistics in next line\n",
    "home_data.describe()\n",
    "____"
   ]
  },
  {
   "cell_type": "code",
   "execution_count": 5,
   "id": "841f1262",
   "metadata": {
    "execution": {
     "iopub.execute_input": "2022-07-02T02:31:37.408355Z",
     "iopub.status.busy": "2022-07-02T02:31:37.407997Z",
     "iopub.status.idle": "2022-07-02T02:31:37.498430Z",
     "shell.execute_reply": "2022-07-02T02:31:37.496986Z"
    },
    "papermill": {
     "duration": 0.098559,
     "end_time": "2022-07-02T02:31:37.500963",
     "exception": false,
     "start_time": "2022-07-02T02:31:37.402404",
     "status": "completed"
    },
    "tags": []
   },
   "outputs": [
    {
     "data": {
      "application/javascript": [
       "parent.postMessage({\"jupyterEvent\": \"custom.exercise_interaction\", \"data\": {\"outcomeType\": 1, \"valueTowardsCompletion\": 0.5, \"interactionType\": 1, \"questionType\": 1, \"questionId\": \"2_HomeDescription\", \"learnToolsVersion\": \"0.3.4\", \"failureMessage\": \"\", \"exceptionClass\": \"\", \"trace\": \"\"}}, \"*\")"
      ],
      "text/plain": [
       "<IPython.core.display.Javascript object>"
      ]
     },
     "metadata": {},
     "output_type": "display_data"
    },
    {
     "data": {
      "text/markdown": [
       "<span style=\"color:#33cc33\">Correct</span>"
      ],
      "text/plain": [
       "Correct"
      ]
     },
     "metadata": {},
     "output_type": "display_data"
    }
   ],
   "source": [
    "# What is the average lot size (rounded to nearest integer)?\n",
    "home_data.describe()\n",
    "avg_lot_size = 10517\n",
    "\n",
    "# As of today, how old is the newest home (current year - the date in which it was built)\n",
    "newest_home_age = 12\n",
    "\n",
    "# Checks your answers\n",
    "step_2.check()"
   ]
  },
  {
   "cell_type": "code",
   "execution_count": 6,
   "id": "8ab411cb",
   "metadata": {
    "execution": {
     "iopub.execute_input": "2022-07-02T02:31:37.512370Z",
     "iopub.status.busy": "2022-07-02T02:31:37.511576Z",
     "iopub.status.idle": "2022-07-02T02:31:37.516064Z",
     "shell.execute_reply": "2022-07-02T02:31:37.514973Z"
    },
    "papermill": {
     "duration": 0.013069,
     "end_time": "2022-07-02T02:31:37.518687",
     "exception": false,
     "start_time": "2022-07-02T02:31:37.505618",
     "status": "completed"
    },
    "tags": []
   },
   "outputs": [],
   "source": [
    "#step_2.hint()\n",
    "#step_2.solution()"
   ]
  },
  {
   "cell_type": "markdown",
   "id": "967a5552",
   "metadata": {
    "papermill": {
     "duration": 0.005629,
     "end_time": "2022-07-02T02:31:37.529359",
     "exception": false,
     "start_time": "2022-07-02T02:31:37.523730",
     "status": "completed"
    },
    "tags": []
   },
   "source": [
    "## Think About Your Data\n",
    "\n",
    "The newest house in your data isn't that new.  A few potential explanations for this:\n",
    "1. They haven't built new houses where this data was collected.\n",
    "1. The data was collected a long time ago. Houses built after the data publication wouldn't show up.\n",
    "\n",
    "If the reason is explanation #1 above, does that affect your trust in the model you build with this data? What about if it is reason #2?\n",
    "\n",
    "How could you dig into the data to see which explanation is more plausible?\n",
    "\n",
    "Check out this **[discussion thread](https://www.kaggle.com/learn-forum/60581)** to see what others think or to add your ideas.\n",
    "\n",
    "# Keep Going\n",
    "\n",
    "You are ready for **[Your First Machine Learning Model](https://www.kaggle.com/dansbecker/your-first-machine-learning-model).**\n"
   ]
  },
  {
   "cell_type": "markdown",
   "id": "74f74cfe",
   "metadata": {
    "papermill": {
     "duration": 0.005816,
     "end_time": "2022-07-02T02:31:37.541439",
     "exception": false,
     "start_time": "2022-07-02T02:31:37.535623",
     "status": "completed"
    },
    "tags": []
   },
   "source": [
    "---\n",
    "**[Machine Learning Course Home Page](https://www.kaggle.com/learn/machine-learning)**\n",
    "\n"
   ]
  }
 ],
 "metadata": {
  "kernelspec": {
   "display_name": "Python 3",
   "language": "python",
   "name": "python3"
  },
  "language_info": {
   "codemirror_mode": {
    "name": "ipython",
    "version": 3
   },
   "file_extension": ".py",
   "mimetype": "text/x-python",
   "name": "python",
   "nbconvert_exporter": "python",
   "pygments_lexer": "ipython3",
   "version": "3.7.12"
  },
  "papermill": {
   "default_parameters": {},
   "duration": 10.849118,
   "end_time": "2022-07-02T02:31:38.167903",
   "environment_variables": {},
   "exception": null,
   "input_path": "__notebook__.ipynb",
   "output_path": "__notebook__.ipynb",
   "parameters": {},
   "start_time": "2022-07-02T02:31:27.318785",
   "version": "2.3.4"
  }
 },
 "nbformat": 4,
 "nbformat_minor": 5
}
